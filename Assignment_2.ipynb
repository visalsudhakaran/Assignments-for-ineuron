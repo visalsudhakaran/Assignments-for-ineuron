{
  "nbformat": 4,
  "nbformat_minor": 0,
  "metadata": {
    "colab": {
      "name": "Assignment 2",
      "provenance": []
    },
    "kernelspec": {
      "name": "python3",
      "display_name": "Python 3"
    }
  },
  "cells": [
    {
      "cell_type": "markdown",
      "metadata": {
        "id": "ZzE3PiWp_gmb"
      },
      "source": [
        "# ASSIGNMENT 2"
      ]
    },
    {
      "cell_type": "markdown",
      "metadata": {
        "id": "6DBcita4Gqtw"
      },
      "source": [
        "# Answer 1"
      ]
    },
    {
      "cell_type": "code",
      "metadata": {
        "colab": {
          "base_uri": "https://localhost:8080/"
        },
        "id": "Snp3KHmG_jwN",
        "outputId": "f13e58c5-d6a4-4fc4-e71e-cad7e0903dd2"
      },
      "source": [
        "for i in range(1,6):\r\n",
        "  print(i * '*')\r\n",
        "for j in reversed(range(1,5)):\r\n",
        "  print(j * '*')\r\n",
        "   \r\n"
      ],
      "execution_count": null,
      "outputs": [
        {
          "output_type": "stream",
          "text": [
            "*\n",
            "**\n",
            "***\n",
            "****\n",
            "*****\n",
            "****\n",
            "***\n",
            "**\n",
            "*\n"
          ],
          "name": "stdout"
        }
      ]
    },
    {
      "cell_type": "code",
      "metadata": {
        "id": "x-p1LczG_4kt"
      },
      "source": [
        ""
      ],
      "execution_count": null,
      "outputs": []
    },
    {
      "cell_type": "markdown",
      "metadata": {
        "id": "zeAJ8g57Gvkd"
      },
      "source": [
        "# Answer 2 "
      ]
    },
    {
      "cell_type": "code",
      "metadata": {
        "colab": {
          "base_uri": "https://localhost:8080/"
        },
        "id": "hmdWNwijCUJA",
        "outputId": "4d480ea5-8859-4b3d-b432-d9182a1f900f"
      },
      "source": [
        "val = []\r\n",
        "inpu = input('Enter the word' ',')\r\n",
        "print('' + inpu[::-1])\r\n"
      ],
      "execution_count": null,
      "outputs": [
        {
          "output_type": "stream",
          "text": [
            "Enter the word,ineuron\n",
            "norueni\n"
          ],
          "name": "stdout"
        }
      ]
    },
    {
      "cell_type": "code",
      "metadata": {
        "id": "sK9LczVtEueS"
      },
      "source": [
        ""
      ],
      "execution_count": null,
      "outputs": []
    }
  ]
}