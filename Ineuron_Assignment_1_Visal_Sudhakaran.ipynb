{
  "nbformat": 4,
  "nbformat_minor": 0,
  "metadata": {
    "colab": {
      "name": "Ineuron Assignment 1 - Visal Sudhakaran",
      "provenance": []
    },
    "kernelspec": {
      "name": "python3",
      "display_name": "Python 3"
    }
  },
  "cells": [
    {
      "cell_type": "markdown",
      "metadata": {
        "id": "yDqYvlh6O89q"
      },
      "source": [
        "# ASSIGNMENT 1"
      ]
    },
    {
      "cell_type": "markdown",
      "metadata": {
        "id": "ikTPAM8oPCl_"
      },
      "source": [
        "#ANSWER 1"
      ]
    },
    {
      "cell_type": "code",
      "metadata": {
        "colab": {
          "base_uri": "https://localhost:8080/"
        },
        "id": "hzz2zUWePH4X",
        "outputId": "d5eed642-a969-45e0-d8ff-c92c608298ae"
      },
      "source": [
        "Numbers = []\n",
        "for i in range(2000,3201):\n",
        "    if (i%7==0) and (i%5==1):\n",
        "        Numbers.append(str(i))\n",
        "print(','.join(Numbers))\n",
        "        "
      ],
      "execution_count": null,
      "outputs": [
        {
          "output_type": "stream",
          "text": [
            "2016,2051,2086,2121,2156,2191,2226,2261,2296,2331,2366,2401,2436,2471,2506,2541,2576,2611,2646,2681,2716,2751,2786,2821,2856,2891,2926,2961,2996,3031,3066,3101,3136,3171\n"
          ],
          "name": "stdout"
        }
      ]
    },
    {
      "cell_type": "markdown",
      "metadata": {
        "id": "wCL1Pw_hPaEQ"
      },
      "source": [
        "# Answer 2"
      ]
    },
    {
      "cell_type": "code",
      "metadata": {
        "id": "oSyuWImFPfEA",
        "colab": {
          "base_uri": "https://localhost:8080/"
        },
        "outputId": "1ba1e39e-3c15-43f3-8f65-99235d7fe72a"
      },
      "source": [
        "\n",
        "FirstName = input(\"Enter your First Name\")\n",
        "SecondName = input(\"Enter your Second Name\")\n",
        "\n",
        "print(SecondName[::-1],\"\",FirstName[::-1])"
      ],
      "execution_count": null,
      "outputs": [
        {
          "output_type": "stream",
          "text": [
            "Enter your First NameVISAL\n",
            "Enter your Second NameSUDHA\n",
            "AHDUS  LASIV\n"
          ],
          "name": "stdout"
        }
      ]
    },
    {
      "cell_type": "markdown",
      "metadata": {
        "id": "XsFJuzk4v5xM"
      },
      "source": [
        "# Answer3"
      ]
    },
    {
      "cell_type": "code",
      "metadata": {
        "colab": {
          "base_uri": "https://localhost:8080/"
        },
        "id": "Z_nG56BPwrFK",
        "outputId": "a888f5a5-c237-42c7-8ddf-d5cc97ecfac3"
      },
      "source": [
        "#Volume of a sphere with Diameter 12\n",
        "pi=3.14\n",
        "d=12\n",
        "4/3 * pi * (d/2)**3\n",
        "  "
      ],
      "execution_count": null,
      "outputs": [
        {
          "output_type": "execute_result",
          "data": {
            "text/plain": [
              "904.3199999999999"
            ]
          },
          "metadata": {
            "tags": []
          },
          "execution_count": 29
        }
      ]
    },
    {
      "cell_type": "code",
      "metadata": {
        "id": "uE4SsnOrxwfy"
      },
      "source": [
        ""
      ],
      "execution_count": null,
      "outputs": []
    }
  ]
}